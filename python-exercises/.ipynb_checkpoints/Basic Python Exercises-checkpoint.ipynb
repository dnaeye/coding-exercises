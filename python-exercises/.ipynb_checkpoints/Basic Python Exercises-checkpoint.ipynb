{
 "cells": [
  {
   "cell_type": "markdown",
   "metadata": {},
   "source": [
    "# Basic Python Exercises\n",
    "Practice data cleansing and manipulation\\\n",
    "Source: [101 Pandas Exercises for Data Analysis](https://www.machinelearningplus.com/python/101-pandas-exercises-python/)"
   ]
  },
  {
   "cell_type": "code",
   "execution_count": 3,
   "metadata": {},
   "outputs": [],
   "source": [
    "# Import basic libraries\n",
    "import pandas as pd\n",
    "import numpy as np\n",
    "import matplotlib.pyplot as plt"
   ]
  },
  {
   "cell_type": "markdown",
   "metadata": {},
   "source": [
    "### Check the version of Pandas?"
   ]
  },
  {
   "cell_type": "code",
   "execution_count": 9,
   "metadata": {},
   "outputs": [
    {
     "name": "stdout",
     "output_type": "stream",
     "text": [
      "1.0.3\n"
     ]
    }
   ],
   "source": [
    "print(pd.__version__)"
   ]
  },
  {
   "cell_type": "markdown",
   "metadata": {},
   "source": [
    "### Create a list of numbers using a list comprehension or numpy"
   ]
  },
  {
   "cell_type": "code",
   "execution_count": 2,
   "metadata": {},
   "outputs": [
    {
     "name": "stdout",
     "output_type": "stream",
     "text": [
      "List comprehension:\n",
      "[1, 2, 3, 4, 5, 6, 7, 8, 9, 10]\n",
      "\n",
      "Numpy:\n",
      "[1, 2, 3, 4, 5, 6, 7, 8, 9, 10]\n"
     ]
    }
   ],
   "source": [
    "# list comprehension\n",
    "mynums1 = [i for i in range(1,11)]\n",
    "print(\"List comprehension:\\n\", mynums1, sep='')\n",
    "print()\n",
    "\n",
    "# numpy array\n",
    "mynums2 = list(np.arange(1,11))\n",
    "print(\"Numpy:\\n\", mynums2, sep='')"
   ]
  },
  {
   "cell_type": "markdown",
   "metadata": {},
   "source": [
    "### Create a list of odd or even numbers using a list comprehension"
   ]
  },
  {
   "cell_type": "code",
   "execution_count": 3,
   "metadata": {},
   "outputs": [
    {
     "name": "stdout",
     "output_type": "stream",
     "text": [
      "[1, 3, 5, 7, 9, 11, 13, 15, 17, 19]\n"
     ]
    }
   ],
   "source": [
    "# odd numbers\n",
    "print([i for i in np.arange(0,20) if i % 2 == 1])"
   ]
  },
  {
   "cell_type": "code",
   "execution_count": 5,
   "metadata": {},
   "outputs": [
    {
     "name": "stdout",
     "output_type": "stream",
     "text": [
      "[0, 2, 4, 6, 8, 10, 12, 14, 16, 18]\n"
     ]
    }
   ],
   "source": [
    "# even numbers\n",
    "print([i for i in np.arange(0,20) if i % 2 == 0])"
   ]
  },
  {
   "cell_type": "markdown",
   "metadata": {},
   "source": [
    "### Create a list of odd or even numbers using Numpy"
   ]
  },
  {
   "cell_type": "code",
   "execution_count": 6,
   "metadata": {},
   "outputs": [
    {
     "name": "stdout",
     "output_type": "stream",
     "text": [
      "[ 1  3  5  7  9 11 13 15 17 19]\n"
     ]
    }
   ],
   "source": [
    "# odd numbers\n",
    "x = np.arange(0,20)\n",
    "print(x[x%2==1])"
   ]
  },
  {
   "cell_type": "code",
   "execution_count": 7,
   "metadata": {},
   "outputs": [
    {
     "name": "stdout",
     "output_type": "stream",
     "text": [
      "[ 0  2  4  6  8 10 12 14 16 18]\n"
     ]
    }
   ],
   "source": [
    "# even numbers\n",
    "x = np.arange(0,20)\n",
    "print(x[x%2==0])"
   ]
  },
  {
   "cell_type": "markdown",
   "metadata": {},
   "source": [
    "### Create a list, numpy array, and dictionary"
   ]
  },
  {
   "cell_type": "code",
   "execution_count": 32,
   "metadata": {},
   "outputs": [
    {
     "name": "stdout",
     "output_type": "stream",
     "text": [
      "List: ['a', 'b', 'c', 'd', 'e', 'f']\n",
      "Numpy array: [ 5  6  7  8  9 10 11 12 13 14]\n",
      "Dictionary: {'A': 0, 'B': 1, 'C': 2, 'D': 3, 'E': 4}\n",
      "Same dictionary, another way: {'A': 0, 'B': 1, 'C': 2, 'D': 3, 'E': 4}\n"
     ]
    }
   ],
   "source": [
    "# Create a list\n",
    "mylist = list('abcdef')\n",
    "print(\"List:\", mylist)\n",
    "\n",
    "# Create a numpy array\n",
    "myarr = np.arange(5,15)\n",
    "print(\"Numpy array:\", myarr)\n",
    "\n",
    "# Create a dictionary explicitly\n",
    "mydict = {\"A\":0, \"B\":1, \"C\":2, \"D\":3, \"E\":4}\n",
    "print(\"Dictionary:\", mydict)\n",
    "\n",
    "# Create a dictionary using two lists\n",
    "mydict_ez = dict(zip(['A','B','C','D','E'], np.arange(0,5)))\n",
    "print(\"Same dictionary, another way:\", mydict_ez)"
   ]
  },
  {
   "cell_type": "markdown",
   "metadata": {},
   "source": [
    "### Create a series from a list, numpy array, and dictionary"
   ]
  },
  {
   "cell_type": "code",
   "execution_count": 33,
   "metadata": {},
   "outputs": [
    {
     "name": "stdout",
     "output_type": "stream",
     "text": [
      "List as series:\n",
      "0    a\n",
      "1    b\n",
      "2    c\n",
      "3    d\n",
      "4    e\n",
      "5    f\n",
      "dtype: object\n",
      "\n",
      "Numpy array as series:\n",
      "0     5\n",
      "1     6\n",
      "2     7\n",
      "3     8\n",
      "4     9\n",
      "5    10\n",
      "6    11\n",
      "7    12\n",
      "8    13\n",
      "9    14\n",
      "dtype: int32\n",
      "\n",
      "Dictionary as series:\n",
      "A    0\n",
      "B    1\n",
      "C    2\n",
      "D    3\n",
      "E    4\n",
      "dtype: int64\n"
     ]
    }
   ],
   "source": [
    "series1 = pd.Series(mylist)\n",
    "series2 = pd.Series(myarr)\n",
    "series3 = pd.Series(mydict)\n",
    "\n",
    "print(\"List as series:\\n\", series1, sep='')\n",
    "print()\n",
    "print(\"Numpy array as series:\\n\", series2, sep='')\n",
    "print()\n",
    "print(\"Dictionary as series:\\n\", series3, sep='') # notice that the keys serve as index"
   ]
  },
  {
   "cell_type": "markdown",
   "metadata": {},
   "source": [
    "### Get slices of data"
   ]
  },
  {
   "cell_type": "code",
   "execution_count": 34,
   "metadata": {},
   "outputs": [
    {
     "data": {
      "text/plain": [
       "['a', 'b', 'c']"
      ]
     },
     "execution_count": 34,
     "metadata": {},
     "output_type": "execute_result"
    }
   ],
   "source": [
    "# Get the first 3 elements of a list\n",
    "mylist[:3]"
   ]
  },
  {
   "cell_type": "code",
   "execution_count": 35,
   "metadata": {},
   "outputs": [
    {
     "data": {
      "text/plain": [
       "['d', 'e', 'f']"
      ]
     },
     "execution_count": 35,
     "metadata": {},
     "output_type": "execute_result"
    }
   ],
   "source": [
    "# Get the last 3 elements of a list\n",
    "mylist[-3:]"
   ]
  },
  {
   "cell_type": "code",
   "execution_count": 47,
   "metadata": {},
   "outputs": [
    {
     "data": {
      "text/plain": [
       "'c'"
      ]
     },
     "execution_count": 47,
     "metadata": {},
     "output_type": "execute_result"
    }
   ],
   "source": [
    "# Get the middle element of a list\n",
    "mylist[int(len(mylist)/2-1)]"
   ]
  },
  {
   "cell_type": "code",
   "execution_count": 45,
   "metadata": {},
   "outputs": [
    {
     "name": "stdout",
     "output_type": "stream",
     "text": [
      "[ 9 10]\n"
     ]
    }
   ],
   "source": [
    "# Get the middle two elements of an array\n",
    "print(myarr[int(len(myarr)/2-1):int(len(myarr)/2+1)])"
   ]
  },
  {
   "cell_type": "code",
   "execution_count": 56,
   "metadata": {},
   "outputs": [
    {
     "name": "stdout",
     "output_type": "stream",
     "text": [
      "c\n",
      "a\n",
      "e\n"
     ]
    }
   ],
   "source": [
    "# Get three random elements from a list\n",
    "from random import randint\n",
    "for i in range(3):\n",
    "    print(mylist[randint(0,len(mylist)-1)])"
   ]
  },
  {
   "cell_type": "markdown",
   "metadata": {},
   "source": [
    "### Convert the index of a series into a column of a dataframe"
   ]
  },
  {
   "cell_type": "code",
   "execution_count": 87,
   "metadata": {},
   "outputs": [
    {
     "name": "stdout",
     "output_type": "stream",
     "text": [
      "Original series:\n",
      "a     5\n",
      "b     6\n",
      "c     7\n",
      "d     8\n",
      "e     9\n",
      "f    10\n",
      "dtype: int64\n",
      "\n",
      "New dataframe with series as a column:\n",
      "  index   0\n",
      "0     a   5\n",
      "1     b   6\n",
      "2     c   7\n",
      "3     d   8\n",
      "4     e   9\n",
      "5     f  10\n",
      "\n",
      "Dataframe with renamed header:\n",
      "  index  value\n",
      "0     a      5\n",
      "1     b      6\n",
      "2     c      7\n",
      "3     d      8\n",
      "4     e      9\n",
      "5     f     10\n"
     ]
    }
   ],
   "source": [
    "myarr_df = myarr[0:len(mylist)]\n",
    "mydict_df = dict(zip(mylist, myarr_df))\n",
    "ser = pd.Series(mydict_df)\n",
    "print(\"Original series:\\n\", ser, sep='')\n",
    "print()\n",
    "df = ser.to_frame().reset_index()\n",
    "print(\"New dataframe with series as a column:\\n\", df, sep='')\n",
    "df.rename(columns={0: \"value\"}, inplace=True)\n",
    "print()\n",
    "print(\"Dataframe with renamed header:\\n\", df, sep='')"
   ]
  },
  {
   "cell_type": "markdown",
   "metadata": {},
   "source": [
    "### Combine multiple series into a dataframe"
   ]
  },
  {
   "cell_type": "code",
   "execution_count": 11,
   "metadata": {},
   "outputs": [
    {
     "name": "stdout",
     "output_type": "stream",
     "text": [
      "  alpha  num\n",
      "0     a    1\n",
      "1     b    2\n",
      "2     c    3\n",
      "3     d    4\n",
      "4     e    5\n"
     ]
    }
   ],
   "source": [
    "import string\n",
    "ser1 = pd.Series(list(string.ascii_lowercase)) # easily get all lowercase letters a-z\n",
    "ser2 = pd.Series(np.arange(1,len(ser1)+1))\n",
    "df = pd.DataFrame({'alpha':ser1, 'num':ser2})\n",
    "print(df.head())"
   ]
  },
  {
   "cell_type": "markdown",
   "metadata": {},
   "source": [
    "### Assign name to the series's index"
   ]
  },
  {
   "cell_type": "code",
   "execution_count": 89,
   "metadata": {},
   "outputs": [
    {
     "data": {
      "text/plain": [
       "0    a\n",
       "1    b\n",
       "2    c\n",
       "3    d\n",
       "4    e\n",
       "Name: letters, dtype: object"
      ]
     },
     "execution_count": 89,
     "metadata": {},
     "output_type": "execute_result"
    }
   ],
   "source": [
    "ser1.name = 'letters'\n",
    "ser1.head()"
   ]
  },
  {
   "cell_type": "markdown",
   "metadata": {},
   "source": [
    "### Get the elements of series A not present in series B"
   ]
  },
  {
   "cell_type": "code",
   "execution_count": 98,
   "metadata": {},
   "outputs": [
    {
     "data": {
      "text/plain": [
       "0    1\n",
       "1    2\n",
       "2    3\n",
       "dtype: int32"
      ]
     },
     "execution_count": 98,
     "metadata": {},
     "output_type": "execute_result"
    }
   ],
   "source": [
    "ser1 = pd.Series(np.arange(1,6))\n",
    "ser2 = pd.Series(np.arange(4,9))\n",
    "ser1[~ser1.isin(ser2)]"
   ]
  },
  {
   "cell_type": "markdown",
   "metadata": {},
   "source": [
    "### Get elements not common to both series A and B"
   ]
  },
  {
   "cell_type": "code",
   "execution_count": 103,
   "metadata": {},
   "outputs": [
    {
     "data": {
      "text/plain": [
       "0    1\n",
       "1    2\n",
       "2    3\n",
       "5    6\n",
       "6    7\n",
       "7    8\n",
       "dtype: int32"
      ]
     },
     "execution_count": 103,
     "metadata": {},
     "output_type": "execute_result"
    }
   ],
   "source": [
    "ser_u = pd.Series(np.union1d(ser1, ser2)) # union\n",
    "ser_i = pd.Series(np.intersect1d(ser1, ser2)) # intersect (common)\n",
    "ser_u[~ser_u.isin(ser_i)]"
   ]
  },
  {
   "cell_type": "markdown",
   "metadata": {},
   "source": [
    "### Get the minimum, 25th percentile, median, 75th percentile, and maximum of a numeric series"
   ]
  },
  {
   "cell_type": "code",
   "execution_count": 110,
   "metadata": {},
   "outputs": [
    {
     "data": {
      "text/plain": [
       "array([ 1.25117263,  7.70986507, 10.92259345, 13.36360403, 18.0949083 ])"
      ]
     },
     "execution_count": 110,
     "metadata": {},
     "output_type": "execute_result"
    }
   ],
   "source": [
    "state = np.random.RandomState(100) # set random seed to get same results each run\n",
    "ser = pd.Series(state.normal(10, 5, 25))\n",
    "np.percentile(ser, q=[0, 25, 50, 75, 100])"
   ]
  },
  {
   "cell_type": "markdown",
   "metadata": {},
   "source": [
    "### Get frequency of unique elements of a series"
   ]
  },
  {
   "cell_type": "code",
   "execution_count": 12,
   "metadata": {},
   "outputs": [
    {
     "data": {
      "text/plain": [
       "m    49\n",
       "x    47\n",
       "u    46\n",
       "w    44\n",
       "j    44\n",
       "dtype: int64"
      ]
     },
     "execution_count": 12,
     "metadata": {},
     "output_type": "execute_result"
    }
   ],
   "source": [
    "# Create a series of letters with random frequency\n",
    "ser = pd.Series(np.take(list(string.ascii_lowercase), np.random.randint(len(string.ascii_lowercase), size=1000)))\n",
    "ser.value_counts().head(5)"
   ]
  },
  {
   "cell_type": "code",
   "execution_count": 13,
   "metadata": {},
   "outputs": [
    {
     "data": {
      "text/plain": [
       "'abcdefghijklmnopqrstuvwxyz'"
      ]
     },
     "execution_count": 13,
     "metadata": {},
     "output_type": "execute_result"
    }
   ],
   "source": [
    "string.ascii_lowercase"
   ]
  },
  {
   "cell_type": "markdown",
   "metadata": {},
   "source": [
    "### Create a line graph of normally distributed temperatures between 30 and 120 for every year between 1900 and 2000."
   ]
  },
  {
   "cell_type": "code",
   "execution_count": 73,
   "metadata": {},
   "outputs": [
    {
     "data": {
      "text/plain": [
       "<matplotlib.legend.Legend at 0x7f9cdc9b9970>"
      ]
     },
     "execution_count": 73,
     "metadata": {},
     "output_type": "execute_result"
    },
    {
     "data": {
      "image/png": "[encoded data removed]",
      "text/plain": [
       "<Figure size 432x288 with 1 Axes>"
      ]
     },
     "metadata": {
      "needs_background": "light"
     },
     "output_type": "display_data"
    }
   ],
   "source": [
    "years = np.arange(1900,2001)\n",
    "temps = np.random.randint(30, 120, 101)\n",
    "df = pd.DataFrame({'Years':years, 'Temps':temps})\n",
    "avg = temps.mean()\n",
    "\n",
    "plt.xlim(min(years), max(years))\n",
    "plt.ylim(0, 130)\n",
    "plt.xlabel(\"Years\")\n",
    "plt.ylabel(\"Temps\")\n",
    "plt.hlines(avg, xmin=min(years), xmax=max(years), color='red', linestyles='dashed')\n",
    "plt.text(min(years), avg, 'AVG', ha ='left', va ='bottom', color='Red')\n",
    "plt.plot('Years', 'Temps', data=df)\n",
    "plt.legend()"
   ]
  },
  {
   "cell_type": "markdown",
   "metadata": {},
   "source": [
    "### Create a dataframe of the words in a paragraph such that each word is a record and each sentence "
   ]
  },
  {
   "cell_type": "code",
   "execution_count": 74,
   "metadata": {},
   "outputs": [
    {
     "name": "stdout",
     "output_type": "stream",
     "text": [
      "welcome to the jungle. we've got fun and games.\n",
      "\n",
      "  Sentence     Word\n",
      "0        1  welcome\n",
      "1        1       to\n",
      "2        1      the\n",
      "3        1   jungle\n",
      "4        2    we've\n",
      "5        2      got\n",
      "6        2      fun\n",
      "7        2      and\n",
      "8        2    games\n"
     ]
    }
   ],
   "source": [
    "import re\n",
    "text = \"welcome to the jungle. we've got fun and games.\"\n",
    "sentences = re.split(r\"[.!?]\", text)\n",
    "sentences = list(map(str.strip, sentences))\n",
    "\n",
    "df = pd.DataFrame(columns=['Sentence', 'Word'])\n",
    "n = 1\n",
    "\n",
    "print(text + \"\\n\")\n",
    "\n",
    "for s in sentences:\n",
    "    words = s.split()\n",
    "    for w in words:\n",
    "        row = {'Sentence':n, 'Word':w}\n",
    "        df = df.append(row, ignore_index=True)\n",
    "    n = n + 1\n",
    "\n",
    "print(df)            "
   ]
  },
  {
   "cell_type": "markdown",
   "metadata": {},
   "source": [
    "### Count the number of words in each sentence."
   ]
  },
  {
   "cell_type": "code",
   "execution_count": 59,
   "metadata": {},
   "outputs": [
    {
     "data": {
      "text/plain": [
       "Sentence\n",
       "0    4\n",
       "1    5\n",
       "Name: Word, dtype: int64"
      ]
     },
     "execution_count": 59,
     "metadata": {},
     "output_type": "execute_result"
    }
   ],
   "source": [
    "df.groupby('Sentence')['Word'].count()"
   ]
  },
  {
   "cell_type": "markdown",
   "metadata": {},
   "source": [
    "### Find the top 10 words (>=5 characters) used in a text"
   ]
  },
  {
   "cell_type": "code",
   "execution_count": 120,
   "metadata": {},
   "outputs": [
    {
     "data": {
      "text/plain": [
       "American          35\n",
       "Thank             26\n",
       "people            19\n",
       "America’s         17\n",
       "America           16\n",
       "their             15\n",
       "where             14\n",
       "every             14\n",
       "administration    12\n",
       "first             12\n",
       "dtype: int64"
      ]
     },
     "execution_count": 120,
     "metadata": {},
     "output_type": "execute_result"
    }
   ],
   "source": [
    "import re\n",
    "text = open(\"Trump State of the Union.txt\", \"r\")\n",
    "speech = text.read()\n",
    "speech = re.sub('applause', '', speech, flags=re.IGNORECASE)\n",
    "words = speech.split()\n",
    "\n",
    "words_5c = []\n",
    "\n",
    "for w in words:\n",
    "    if len(w) >= 5:\n",
    "        words_5c.append(w)\n",
    "        \n",
    "words_ser = pd.Series(words_5c)\n",
    "words_ser.value_counts()[0:10]"
   ]
  },
  {
   "cell_type": "markdown",
   "metadata": {},
   "source": [
    "### Keep only top 2 most frequent values as is and replace everything else as ‘Other’"
   ]
  },
  {
   "cell_type": "code",
   "execution_count": 145,
   "metadata": {},
   "outputs": [
    {
     "name": "stdout",
     "output_type": "stream",
     "text": [
      "3    8\n",
      "2    6\n",
      "dtype: int64\n",
      "Other: 6\n"
     ]
    }
   ],
   "source": [
    "np.random.seed(123)\n",
    "ser = pd.Series(np.random.randint(1, 5, 20))\n",
    "top2 = ser.value_counts()[:2]\n",
    "print(top2)\n",
    "print(\"Other: \" + str(ser.value_counts()[2:].sum()))"
   ]
  },
  {
   "cell_type": "markdown",
   "metadata": {},
   "source": [
    "### Convert a numpy array to a dataframe that is 7 rows x 5 columns"
   ]
  },
  {
   "cell_type": "code",
   "execution_count": 9,
   "metadata": {},
   "outputs": [
    {
     "name": "stdout",
     "output_type": "stream",
     "text": [
      "[6 2 3 7 1 1 1 1 4 4 9 8 1 5 3 6 1 3 5 7 3 6 3 3 6 7 6 5 6 1 8 1 7 6 6]\n",
      "   0  1  2  3  4\n",
      "0  6  2  3  7  1\n",
      "1  1  1  1  4  4\n",
      "2  9  8  1  5  3\n",
      "3  6  1  3  5  7\n",
      "4  3  6  3  3  6\n",
      "5  7  6  5  6  1\n",
      "6  8  1  7  6  6\n"
     ]
    }
   ],
   "source": [
    "array = np.random.randint(1, 10, 35)\n",
    "print(array)\n",
    "ser = pd.Series(array)\n",
    "df = pd.DataFrame(ser.values.reshape(7,5))\n",
    "print(df)"
   ]
  },
  {
   "cell_type": "markdown",
   "metadata": {},
   "source": [
    "### How to find the positions of numbers that are multiples of 3 from a series?"
   ]
  },
  {
   "cell_type": "code",
   "execution_count": 28,
   "metadata": {},
   "outputs": [
    {
     "name": "stdout",
     "output_type": "stream",
     "text": [
      "0    9\n",
      "1    1\n",
      "2    4\n",
      "3    9\n",
      "4    5\n",
      "5    4\n",
      "6    5\n",
      "dtype: int32\n"
     ]
    },
    {
     "data": {
      "text/plain": [
       "Int64Index([0, 3], dtype='int64')"
      ]
     },
     "execution_count": 28,
     "metadata": {},
     "output_type": "execute_result"
    }
   ],
   "source": [
    "np.random.seed(345)\n",
    "ser = pd.Series(np.random.randint(1, 10, 7))\n",
    "print(ser)\n",
    "ser[ser % 3 ==0].index"
   ]
  },
  {
   "cell_type": "markdown",
   "metadata": {},
   "source": [
    "### Extract items at given positions from a series"
   ]
  },
  {
   "cell_type": "code",
   "execution_count": 33,
   "metadata": {},
   "outputs": [
    {
     "data": {
      "text/plain": [
       "0     a\n",
       "4     e\n",
       "8     i\n",
       "14    o\n",
       "20    u\n",
       "dtype: object"
      ]
     },
     "execution_count": 33,
     "metadata": {},
     "output_type": "execute_result"
    }
   ],
   "source": [
    "ser = pd.Series(list('abcdefghijklmnopqrstuvwxyz'))\n",
    "pos = [0, 4, 8, 14, 20]\n",
    "ser.take(pos)"
   ]
  },
  {
   "cell_type": "markdown",
   "metadata": {},
   "source": [
    "### Stack two series vertically and horizontally"
   ]
  },
  {
   "cell_type": "code",
   "execution_count": 48,
   "metadata": {},
   "outputs": [
    {
     "name": "stdout",
     "output_type": "stream",
     "text": [
      "0    0\n",
      "1    1\n",
      "2    2\n",
      "3    3\n",
      "4    4\n",
      "0    a\n",
      "1    b\n",
      "2    c\n",
      "3    d\n",
      "4    e\n",
      "dtype: object\n",
      "   0  1\n",
      "0  0  a\n",
      "1  1  b\n",
      "2  2  c\n",
      "3  3  d\n",
      "4  4  e\n"
     ]
    }
   ],
   "source": [
    "ser1 = pd.Series(range(5))\n",
    "ser2 = pd.Series(list('abcde'))\n",
    "\n",
    "# Stacked vertically\n",
    "print(ser1.append(ser2))\n",
    "\n",
    "# Stacked horizontally\n",
    "df = pd.concat([ser1, ser2], axis=1)\n",
    "print(df)"
   ]
  },
  {
   "cell_type": "markdown",
   "metadata": {},
   "source": [
    "### Get the positions of items of series A in another series B"
   ]
  },
  {
   "cell_type": "code",
   "execution_count": 44,
   "metadata": {},
   "outputs": [
    {
     "data": {
      "text/plain": [
       "[5, 4, 0, 8]"
      ]
     },
     "execution_count": 44,
     "metadata": {},
     "output_type": "execute_result"
    }
   ],
   "source": [
    "serA = pd.Series([1, 3, 10, 13])\n",
    "serB = pd.Series([10, 9, 6, 5, 3, 1, 12, 8, 13])\n",
    "\n",
    "[pd.Index(serB).get_loc(i) for i in serA]"
   ]
  },
  {
   "cell_type": "markdown",
   "metadata": {},
   "source": [
    "### Compute the mean squared error on a truth and predicted series"
   ]
  },
  {
   "cell_type": "code",
   "execution_count": 49,
   "metadata": {},
   "outputs": [
    {
     "data": {
      "text/plain": [
       "0.384687895218609"
      ]
     },
     "execution_count": 49,
     "metadata": {},
     "output_type": "execute_result"
    }
   ],
   "source": [
    "truth = pd.Series(range(10))\n",
    "pred = pd.Series(range(10)) + np.random.random(10)\n",
    "\n",
    "np.mean((truth-pred)**2)"
   ]
  },
  {
   "cell_type": "markdown",
   "metadata": {},
   "source": [
    "### Convert the first character of each element in a series to uppercase"
   ]
  },
  {
   "cell_type": "code",
   "execution_count": 63,
   "metadata": {},
   "outputs": [
    {
     "name": "stdout",
     "output_type": "stream",
     "text": [
      "0     How\n",
      "1      To\n",
      "2    Kick\n",
      "3    Ass?\n",
      "dtype: object\n",
      "0     How\n",
      "1      To\n",
      "2    Kick\n",
      "3    Ass?\n",
      "dtype: object\n"
     ]
    }
   ],
   "source": [
    "ser = pd.Series(['how', 'to', 'kick', 'ass?'])\n",
    "\n",
    "# Solution 2\n",
    "print(ser.map(lambda x: x.title()))\n",
    "\n",
    "# Solution 3\n",
    "print(ser.map(lambda x: x[0].upper() + x[1:]))"
   ]
  },
  {
   "cell_type": "markdown",
   "metadata": {},
   "source": [
    "### Calculate the number of characters in each word in a series"
   ]
  },
  {
   "cell_type": "code",
   "execution_count": 66,
   "metadata": {},
   "outputs": [
    {
     "data": {
      "text/plain": [
       "0    3\n",
       "1    2\n",
       "2    4\n",
       "3    4\n",
       "dtype: int64"
      ]
     },
     "execution_count": 66,
     "metadata": {},
     "output_type": "execute_result"
    }
   ],
   "source": [
    "ser = pd.Series(['how', 'to', 'kick', 'ass?'])\n",
    "ser.map(lambda x: len(x))"
   ]
  },
  {
   "cell_type": "markdown",
   "metadata": {},
   "source": [
    "### Compute difference of differences between consequtive numbers of a series"
   ]
  },
  {
   "cell_type": "code",
   "execution_count": 67,
   "metadata": {},
   "outputs": [
    {
     "data": {
      "text/plain": [
       "0    NaN\n",
       "1    2.0\n",
       "2    3.0\n",
       "3    4.0\n",
       "4    5.0\n",
       "5    6.0\n",
       "6    6.0\n",
       "7    8.0\n",
       "dtype: float64"
      ]
     },
     "execution_count": 67,
     "metadata": {},
     "output_type": "execute_result"
    }
   ],
   "source": [
    "ser = pd.Series([1, 3, 6, 10, 15, 21, 27, 35])\n",
    "ser.diff()"
   ]
  },
  {
   "cell_type": "code",
   "execution_count": null,
   "metadata": {},
   "outputs": [],
   "source": []
  }
 ],
 "metadata": {
  "kernelspec": {
   "display_name": "Python 3",
   "language": "python",
   "name": "python3"
  },
  "language_info": {
   "codemirror_mode": {
    "name": "ipython",
    "version": 3
   },
   "file_extension": ".py",
   "mimetype": "text/x-python",
   "name": "python",
   "nbconvert_exporter": "python",
   "pygments_lexer": "ipython3",
   "version": "3.9.1"
  }
 },
 "nbformat": 4,
 "nbformat_minor": 4
}
